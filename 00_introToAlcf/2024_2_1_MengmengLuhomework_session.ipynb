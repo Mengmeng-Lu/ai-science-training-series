{
 "cells": [
  {
   "cell_type": "markdown",
   "id": "3f7ad697-689c-4d62-ab25-466bd6e340ae",
   "metadata": {},
   "source": [
    "# Here is my homework"
   ]
  },
  {
   "cell_type": "code",
   "execution_count": 1,
   "id": "f96cfbda-5691-42b4-8559-33fed5d33b00",
   "metadata": {},
   "outputs": [
    {
     "name": "stdout",
     "output_type": "stream",
     "text": [
      "testing...\n"
     ]
    }
   ],
   "source": [
    "import os, sys\n",
    "\n",
    "print ('testing...')"
   ]
  },
  {
   "cell_type": "code",
   "execution_count": null,
   "id": "cbb70e7a-bf77-4971-929a-9d8e058f4fba",
   "metadata": {},
   "outputs": [],
   "source": []
  }
 ],
 "metadata": {
  "kernelspec": {
   "display_name": "Python 3 (ipykernel)",
   "language": "python",
   "name": "python3"
  },
  "language_info": {
   "codemirror_mode": {
    "name": "ipython",
    "version": 3
   },
   "file_extension": ".py",
   "mimetype": "text/x-python",
   "name": "python",
   "nbconvert_exporter": "python",
   "pygments_lexer": "ipython3",
   "version": "3.9.15"
  }
 },
 "nbformat": 4,
 "nbformat_minor": 5
}
